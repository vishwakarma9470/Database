{
 "cells": [
  {
   "cell_type": "markdown",
   "id": "c6e7d39b-ba1e-4f42-a93d-b86ed89567de",
   "metadata": {},
   "source": [
    "Q1. What is a database? Differentiate between SQL and NoSQL databases.\n",
    "\n",
    "Ans: A database is a structured collection of data that is organized in a way that allows for efficient storage, retrieval, and manipulation of data. It serves as a central repository for various types of information, ranging from simple lists to complex datasets used in applications, websites, and other systems.\r\n",
    "\r\n",
    "Here's a differentiation between SQL (relational) and NoSQL databases:\r\n",
    "\r\n",
    "SQL Databases:\r\n",
    "\r\n",
    "Structured Query Language (SQL): These databases use SQL as their primary interface for querying and manipulating data. SQL is a standard language for managing relational databases.\r\n",
    "Structured Data Model: SQL databases follow a tabular structure, where data is organized into tables with predefined schemas. Each table consists of rows and columns, and relationships between tables are established using keys.\r\n",
    "ACID Compliance: SQL databases generally adhere to the ACID (Atomicity, Consistency, Isolation, Durability) properties, ensuring data integrity and reliability.\r\n",
    "Examples: MySQL, PostgreSQL, Oracle Database, SQL Server.\r\n",
    "NoSQL Databases:\r\n",
    "\r\n",
    "Not Only SQL: NoSQL databases encompass a wide range of database technologies that diverge from the traditional relational model. They are designed to handle large volumes of unstructured or semi-structured data.\r\n",
    "Schema Flexibility: NoSQL databases typically offer more flexibility in terms of schema design. They can handle dynamic or changing data structures more effectively.\r\n",
    "Scalability: Many NoSQL databases are designed with horizontal scalability in mind, allowing them to distribute data across multiple nodes and handle high volumes of traffic.\r\n",
    "Variety of Data Models: NoSQL databases support various data models, including key-value stores, document stores, column-family stores, and graph databases.\r\n",
    "Examples: MongoDB (document store), Cassandra (column-family store), Redis (key-value store), Neo4j (graph database).\r\n"
   ]
  },
  {
   "cell_type": "markdown",
   "id": "5f389964-ef93-47a7-9988-253c65a4c4f4",
   "metadata": {},
   "source": [
    "Q2. What is DDL? Explain why CREATE, DROP, ALTER, and TRUNCATE are used with an example.\n",
    "\n",
    "Ans:DDL stands for Data Definition Language. It is a subset of SQL (Structured Query Language) used to define the structure and layout of a database. DDL statements are used to create, modify, and delete database objects such as tables, indexes, views, etc."
   ]
  },
  {
   "cell_type": "markdown",
   "id": "4e540cc9-3342-4e41-ab82-5a9872377f13",
   "metadata": {},
   "source": [
    "CREATE: Used to create a new database object like a table, index, view, etc. For example:"
   ]
  },
  {
   "cell_type": "code",
   "execution_count": null,
   "id": "4849a214-7282-4006-94ef-b861f3363bbc",
   "metadata": {},
   "outputs": [],
   "source": [
    "CREATE TABLE employees (\n",
    "    id INT PRIMARY KEY,\n",
    "    name VARCHAR(100),\n",
    "    age INT,\n",
    "    department VARCHAR(50)\n",
    ");\n"
   ]
  },
  {
   "cell_type": "markdown",
   "id": "4e719b79-13cc-4f83-b27c-4e1964d90eb5",
   "metadata": {},
   "source": [
    "DROP: Used to delete an existing database object. For example:"
   ]
  },
  {
   "cell_type": "code",
   "execution_count": null,
   "id": "a8a534e4-9afc-40c6-bd01-08ff13fa9a2b",
   "metadata": {},
   "outputs": [],
   "source": [
    "DROP TABLE employees;\n"
   ]
  },
  {
   "cell_type": "markdown",
   "id": "e07e84ba-7f9d-4d04-a199-eb071a98f7c8",
   "metadata": {},
   "source": [
    "ALTER: Used to modify the structure of an existing database object. For example, adding a new column to a table:"
   ]
  },
  {
   "cell_type": "code",
   "execution_count": null,
   "id": "7ba09659-abcd-49d5-9b47-efa526cb61e7",
   "metadata": {},
   "outputs": [],
   "source": [
    "ALTER TABLE employees ADD COLUMN salary DECIMAL(10, 2);\n"
   ]
  },
  {
   "cell_type": "markdown",
   "id": "95f81602-d09d-4a83-8ffe-1e5653b6e0b8",
   "metadata": {},
   "source": [
    "TRUNCATE: Used to remove all records from a table, but retains the structure of the table. For example:"
   ]
  },
  {
   "cell_type": "code",
   "execution_count": null,
   "id": "340a3730-e868-409d-b8e9-2a1c1ebfc53e",
   "metadata": {},
   "outputs": [],
   "source": [
    "TRUNCATE TABLE employees;\n"
   ]
  },
  {
   "cell_type": "markdown",
   "id": "76243e5b-951d-4884-9229-6dbd9c2bf42c",
   "metadata": {},
   "source": [
    "Q3. What is DML? Explain INSERT, UPDATE, and DELETE with an example.\n",
    "\n",
    "Ans:DML stands for Data Manipulation Language. It is a subset of SQL (Structured Query Language) used to manipulate and retrieve data stored in a database. DML statements are primarily used to perform operations such as inserting, updating, deleting, and querying data within database tables."
   ]
  },
  {
   "cell_type": "markdown",
   "id": "0c284553-ba12-46e0-8248-5bc093175a79",
   "metadata": {},
   "source": [
    "INSERT: Used to add new records or rows into a table."
   ]
  },
  {
   "cell_type": "code",
   "execution_count": null,
   "id": "e9f7f666-a39b-484c-a4ba-68143e40a947",
   "metadata": {},
   "outputs": [],
   "source": [
    "INSERT INTO employees (id, name, age, department)\n",
    "VALUES (1, 'John Doe', 30, 'IT');\n"
   ]
  },
  {
   "cell_type": "markdown",
   "id": "d110e329-f2a9-4cd2-abe5-3d9fdcb07a3f",
   "metadata": {},
   "source": [
    "This statement inserts a new record into the \"employees\" table with specified values for the columns \"id,\" \"name,\" \"age,\" and \"department.\""
   ]
  },
  {
   "cell_type": "markdown",
   "id": "43a54a9c-87fc-49d8-a67c-12bdc4839d1f",
   "metadata": {},
   "source": [
    "UPDATE: Used to modify existing records in a table.\r\n",
    " to 35."
   ]
  },
  {
   "cell_type": "code",
   "execution_count": null,
   "id": "8d125944-0691-4a13-9621-0186404bb802",
   "metadata": {},
   "outputs": [],
   "source": [
    "\n",
    "UPDATE employees\n",
    "SET age = 35\n",
    "WHERE id = 1;\n",
    "\n"
   ]
  },
  {
   "cell_type": "markdown",
   "id": "c325d247-6f0c-40cd-9fba-729a6310d7c6",
   "metadata": {},
   "source": [
    "This statement updates the \"age\" column of the record with id 1 in the \"employees\" table, setting it to 35."
   ]
  },
  {
   "cell_type": "markdown",
   "id": "4eda5364-fc4f-4382-8b54-ebabc06b5f89",
   "metadata": {},
   "source": [
    "DELETE: Used to remove records from a table."
   ]
  },
  {
   "cell_type": "code",
   "execution_count": null,
   "id": "989afd7f-1c76-480b-87bc-926b86427cfc",
   "metadata": {},
   "outputs": [],
   "source": [
    "DELETE FROM employees\n",
    "WHERE id = 1;\n"
   ]
  },
  {
   "cell_type": "markdown",
   "id": "1db1450e-d07c-43b5-bd76-7cab2b9b6232",
   "metadata": {},
   "source": [
    "This statement deletes the record with id 1 from the \"employees\" table."
   ]
  },
  {
   "cell_type": "markdown",
   "id": "3e6eee38-8e32-4318-a35c-9aeaf03a4d45",
   "metadata": {},
   "source": [
    "Q4. What is DQL? Explain SELECT with an example.\n",
    "\n",
    "Ans:DQL stands for Data Query Language. It is a subset of SQL (Structured Query Language) used to retrieve data from a database. DQL statements are primarily used to perform queries on database tables to fetch specific data that meets certain criteria."
   ]
  },
  {
   "cell_type": "markdown",
   "id": "14cbb8df-ea65-4fc3-84c9-c62cbf281d1c",
   "metadata": {},
   "source": [
    "SELECT: Used to retrieve data from one or more tables based on specified criteria."
   ]
  },
  {
   "cell_type": "code",
   "execution_count": null,
   "id": "28676fcc-8ed4-47d1-9330-6fdd784ce845",
   "metadata": {},
   "outputs": [],
   "source": [
    "SELECT column1, column2, ...\n",
    "FROM table_name\n",
    "WHERE condition;\n"
   ]
  },
  {
   "cell_type": "markdown",
   "id": "5a3477ff-158d-42ee-8a11-b8a3f6e10e51",
   "metadata": {},
   "source": [
    "-column1, column2, ...: Columns that you want to retrieve data from.\n",
    "\n",
    "-table_name: The name of the table from which you want to retrieve data.\n",
    "\n",
    "-condition: Optional. Specifies the conditions that must be met for the records to be ---selected. If omitted, all records will be returned."
   ]
  },
  {
   "cell_type": "markdown",
   "id": "4d79a07c-9b32-4551-9f4d-5f88f531405a",
   "metadata": {},
   "source": [
    "Example:\r\n",
    "\r\n",
    "Consider a table named \"employees\" with columns id, name, age, and department. To retrieve the names of all employees from the \"IT\" department who are older than 30 years, you can use the following SELECT statement:"
   ]
  },
  {
   "cell_type": "code",
   "execution_count": null,
   "id": "1a6d1856-54a9-4973-9303-a09a8e5b3577",
   "metadata": {},
   "outputs": [],
   "source": [
    "SELECT name\n",
    "FROM employees\n",
    "WHERE department = 'IT' AND age > 30;\n"
   ]
  },
  {
   "cell_type": "markdown",
   "id": "390cc981-0c19-42fe-833d-eb57677ac8a2",
   "metadata": {},
   "source": [
    "This query will return the names of employees from the \"IT\" department who are older than 30 years."
   ]
  },
  {
   "cell_type": "markdown",
   "id": "8dfc59d7-9560-4dbe-82a2-3f8879df9016",
   "metadata": {},
   "source": [
    "Q5. Explain the Primary Key and Foreign Key.\n",
    "\n",
    "Ans: A primary key is a unique identifier for each record in a database table. It ensures that each row within the table is uniquely identifiable and serves as a reference point for other tables in the database. Primary keys are used to enforce entity integrity, meaning they prevent duplicate or null values in the specified column(s). Typically, primary keys are created on columns that have unique values for each row, such as an auto-incrementing ID field.\n",
    "\n",
    "Key characteristics of a primary key:\n",
    "\r\n",
    "Uniqueness: Each value in the primary key column(s) must be unique within the tabl\n",
    "e.\r\n",
    "Non-null: Primary key columns cannot contain NULL valu\n",
    "es.\r\n",
    "Immutable: Once assigned, the value of a primary key should not change."
   ]
  },
  {
   "cell_type": "markdown",
   "id": "fb4af4ad-7c2e-4be9-a64f-a828b103daea",
   "metadata": {},
   "source": [
    "Foreign Key:\n",
    "\n",
    "A foreign key is a column or a set of columns in a table that establishes a relationship between two tables in a relational database. It creates a link between the data in two tables by referencing the primary key of another table. The table containing the foreign key is called the child table, while the table containing the referenced primary key is called the parent table.\n",
    "\n",
    "Key characteristics of a foreign key:\n",
    "\n",
    "Referential integrity: It ensures that values in the foreign key column(s) of the child \n",
    "table match values in the primary key column(s) of the parent table.\n",
    "\n",
    "Relationship: It establishes a logical relationship between the data in two tables."
   ]
  },
  {
   "cell_type": "markdown",
   "id": "dda66e39-5969-4019-a406-b4373323201e",
   "metadata": {},
   "source": [
    "Q6. Write a python code to connect MySQL to python. Explain the cursor() and execute() method.or.close()\r\n",
    "mydb.close()\r\n"
   ]
  },
  {
   "cell_type": "code",
   "execution_count": null,
   "id": "b4ea5509-3742-449f-8443-ee59de87aa9d",
   "metadata": {},
   "outputs": [],
   "source": [
    "import mysql.connector\n",
    "\n",
    "# Establishing a connection to the MySQL database\n",
    "mydb = mysql.connector.connect(\n",
    "    host=\"localhost\",\n",
    "    user=\"yourusername\",\n",
    "    password=\"yourpassword\",\n",
    "    database=\"yourdatabase\"\n",
    ")\n",
    "\n",
    "# Creating a cursor object to interact with the database\n",
    "mycursor = mydb.cursor()\n",
    "\n",
    "# Using the cursor to execute SQL queries\n",
    "mycursor.execute(\"SELECT * FROM your_table\")\n",
    "\n",
    "# Fetching all rows from the result set\n",
    "result = mycursor.fetchall()\n",
    "\n",
    "# Iterating through the result set\n",
    "for row in result:\n",
    "    print(row)\n",
    "\n",
    "# Closing the cursor and database connection\n",
    "mycursor.close()\n",
    "mydb.close()\n"
   ]
  },
  {
   "cell_type": "markdown",
   "id": "5f04df6a-ec78-47c7-9ba3-db7783ad7e8a",
   "metadata": {},
   "source": [
    " cursor():\n",
    " create a cursor object using mydb.cursor(). The cursor allows you to execute SQL queries and fetch results from the database."
   ]
  },
  {
   "cell_type": "markdown",
   "id": "5233822f-ae84-487a-ba6b-372c50b81d66",
   "metadata": {},
   "source": [
    "execute():\n",
    "excute method of the cursor object to execute SQL queries. Pass the SQL query as a parameter to this method."
   ]
  },
  {
   "cell_type": "markdown",
   "id": "bdfd593b-dcc1-4c26-856c-525a8e41a0fe",
   "metadata": {},
   "source": [
    "Q7. Give the order of execution of SQL clauses in an SQL query.\n",
    "\n",
    "Ans: In SQL, the order of execution of clauses in an SQL query generally follows a specific sequence, although there may be variations depending on the specific query and database management system (DBMS) being used. The typical order of execution is as follows:\r\n",
    "\r\n",
    "FROM: The FROM clause specifies the table or tables from which the data will be retrieved. It is the first clause processed in the execution sequence.\r\n",
    "\r\n",
    "WHERE: The WHERE clause filters the rows returned by the FROM clause based on specified conditions. It restricts the rows returned to those that meet the specified criteria.\r\n",
    "\r\n",
    "GROUP BY: The GROUP BY clause is used to group rows that have the same values into summary rows, typically for use with aggregate functions such as COUNT, SUM, AVG, etc.\r\n",
    "\r\n",
    "HAVING: The HAVING clause filters the groups produced by the GROUP BY clause based on specified conditions. It is similar to the WHERE clause but is used specifically with aggregate functions and operates on groups rather than individual rows.\r\n",
    "\r\n",
    "SELECT: The SELECT clause selects the columns to be included in the result set. It specifies the data to be retrieved from the tables specified in the FROM clause.\r\n",
    "\r\n",
    "ORDER BY: The ORDER BY clause sorts the result set based on specified columns and sort orders (ascending or descending). It is the last clause to be executed in t\n",
    "he sequence.\r\n",
    "\r\n",
    "LIMIT/OFFSET (Optional): Some database systems support the LIMIT and OFFSET clauses, which are used to limit the number of rows returned or to skip a certain number of rows before returning results. These clauses are typically applied after the other clauses have beeed and executed."
   ]
  },
  {
   "cell_type": "code",
   "execution_count": null,
   "id": "04b2be1b-538e-46b9-8465-53a1a69fd76d",
   "metadata": {},
   "outputs": [],
   "source": []
  },
  {
   "cell_type": "code",
   "execution_count": null,
   "id": "b2b74663-edf1-4a8a-a7b7-bd55183ddb9b",
   "metadata": {},
   "outputs": [],
   "source": []
  },
  {
   "cell_type": "code",
   "execution_count": null,
   "id": "0b6bb477-957c-487f-8ff9-d4b06f8cb1cc",
   "metadata": {},
   "outputs": [],
   "source": []
  },
  {
   "cell_type": "markdown",
   "id": "ead631ff-337c-4ea6-9fc6-bebca35670b2",
   "metadata": {},
   "source": []
  }
 ],
 "metadata": {
  "kernelspec": {
   "display_name": "Python 3 (ipykernel)",
   "language": "python",
   "name": "python3"
  },
  "language_info": {
   "codemirror_mode": {
    "name": "ipython",
    "version": 3
   },
   "file_extension": ".py",
   "mimetype": "text/x-python",
   "name": "python",
   "nbconvert_exporter": "python",
   "pygments_lexer": "ipython3",
   "version": "3.11.5"
  }
 },
 "nbformat": 4,
 "nbformat_minor": 5
}
